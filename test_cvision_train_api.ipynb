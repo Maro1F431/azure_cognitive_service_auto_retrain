{
 "cells": [
  {
   "cell_type": "code",
   "execution_count": 1,
   "metadata": {},
   "outputs": [],
   "source": [
    "#!pip install azure-cognitiveservices-vision-customvision"
   ]
  },
  {
   "cell_type": "code",
   "execution_count": 2,
   "metadata": {},
   "outputs": [],
   "source": [
    "from azure.cognitiveservices.vision.customvision.training import CustomVisionTrainingClient\n",
    "from azure.cognitiveservices.vision.customvision.training.models import *\n",
    "from msrest.authentication import ApiKeyCredentials "
   ]
  },
  {
   "cell_type": "code",
   "execution_count": 4,
   "metadata": {},
   "outputs": [],
   "source": [
    "# Setup credentials and ENDPOINT for the related service.\n",
    "ENDPOINT = # set your own\n",
    "training_key = # set your own\n",
    "credentials = ApiKeyCredentials(in_headers={\"Training-key\": training_key})\n",
    "project_id = # set your own\n",
    "\n",
    "# Create the training client.\n",
    "trainer = CustomVisionTrainingClient(ENDPOINT, credentials)\n",
    "\n",
    "# Function checking if the model needs to be retrained and do so.\n",
    "def retrain():\n",
    "    # Set project id (fetched from the customvision console (website))\n",
    "\n",
    "    # Get the last iteration\n",
    "    iteration_id = trainer.get_iterations(project_id)[0].id\n",
    "\n",
    "    tagIds = trainer.get_tags(project_id, iteration_id)\n",
    "    for tag in tagIds:\n",
    "        if tag.name == \"malignant\":\n",
    "            malign_tag_id = tag.id\n",
    "        else:\n",
    "            benign_tag_id = tag.id\n",
    "            \n",
    "    threshold = 0.6\n",
    "    \n",
    "    malign_token_tag = PredictionQueryTag(id = malign_tag_id, min_threshold=threshold, max_threshold=1)\n",
    "    malign_token = PredictionQueryToken(tags=[malign_token_tag], iteration_id = iteration_id, max_count = 100)\n",
    "    new_images_malign = trainer.query_predictions(project_id, malign_token)\n",
    "\n",
    "    benign_token_tag = PredictionQueryTag(id = benign_tag_id, min_threshold=threshold, max_threshold=1)\n",
    "    benign_token = PredictionQueryToken(tags=[ benign_token_tag], iteration_id = iteration_id, max_count = 2 * len(new_images_malign.results))\n",
    "    new_images_benign = trainer.query_predictions(project_id, benign_token)\n",
    "    \n",
    "    if (len(new_images_malign.results) > len(new_images_malign.results)):\n",
    "        return False\n",
    "    \n",
    "    upload_batch_pred(new_images_malign, malign_tag_id)\n",
    "    upload_batch_pred(new_images_benign, benign_tag_id)\n",
    "    \n",
    "    CustomBaseModelInfo(project_id=project_id, iteration_id= iteration_id)\n",
    "    try:\n",
    "        trainer.train_project(project_id, selected_tags=[benign_tag_id, malign_tag_id], notification_email_address=\"PMEDT@outlook.fr\", force_train=True)\n",
    "    except CustomVisionErrorException:\n",
    "        return False\n",
    "        \n",
    "    return True\n",
    "\n",
    "# upload to the training set, by batch of 64, a list (of a certain tag) of images.\n",
    "def upload_batch_pred(query, tag):\n",
    "    for i in range(0, len(query.results), 64):\n",
    "        batch = []\n",
    "        for image in query.results[i: i+ 64] :\n",
    "            print(image.id)\n",
    "            image_entry = ImageIdCreateEntry(id=image.id, tag_ids = [tag])\n",
    "            batch.append(image_entry)\n",
    "        batch = ImageIdCreateBatch(images=batch, tag_ids = [tag])\n",
    "        trainer.create_images_from_predictions(project_id, batch)\n"
   ]
  },
  {
   "cell_type": "code",
   "execution_count": 5,
   "metadata": {},
   "outputs": [
    {
     "data": {
      "text/plain": [
       "True"
      ]
     },
     "execution_count": 5,
     "metadata": {},
     "output_type": "execute_result"
    }
   ],
   "source": [
    "retrain()"
   ]
  },
  {
   "cell_type": "code",
   "execution_count": 3,
   "metadata": {},
   "outputs": [],
   "source": [
    "ressource_id = # set your own"
   ]
  },
  {
   "cell_type": "code",
   "execution_count": 95,
   "metadata": {},
   "outputs": [],
   "source": [
    " def publish_last_iteration():\n",
    "    # Create the training client.\n",
    "    trainer = CustomVisionTrainingClient(ENDPOINT, credentials)\n",
    "    # Get the last iteration\n",
    "    iterations = trainer.get_iterations(project_id)\n",
    "    it_to_publish = iterations[0].id\n",
    "\n",
    "    # Unpublish second last iteration\n",
    "    if len(iterations) > 1:\n",
    "        if iterations[1].status == \"succeeded\":\n",
    "            trainer.unpublish_iteration(project_id, iterations[1].id)\n",
    "    \n",
    "    publish_name = \"iteration 1\"\n",
    "    if len(iterations) > 0:\n",
    "        second_last_name = iterations[1].name\n",
    "        last_num = int(second_last_name.split(\" \")[1])\n",
    "        publish_name = \"iteration \" + str(last_num + 1)\n",
    "\n",
    "    trainer.publish_iteration(project_id, it_to_publish, publish_name, ressource_id)\n"
   ]
  },
  {
   "cell_type": "code",
   "execution_count": 94,
   "metadata": {},
   "outputs": [],
   "source": [
    "publish_last_iteration()"
   ]
  },
  {
   "cell_type": "code",
   "execution_count": null,
   "metadata": {},
   "outputs": [],
   "source": []
  }
 ],
 "metadata": {
  "kernelspec": {
   "display_name": "Python 3",
   "language": "python",
   "name": "python3"
  },
  "language_info": {
   "codemirror_mode": {
    "name": "ipython",
    "version": 3
   },
   "file_extension": ".py",
   "mimetype": "text/x-python",
   "name": "python",
   "nbconvert_exporter": "python",
   "pygments_lexer": "ipython3",
   "version": "3.7.6"
  }
 },
 "nbformat": 4,
 "nbformat_minor": 4
}
